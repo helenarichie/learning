{
 "cells": [
  {
   "cell_type": "code",
   "execution_count": 1,
   "id": "convinced-probe",
   "metadata": {},
   "outputs": [
    {
     "name": "stdout",
     "output_type": "stream",
     "text": [
      "Populating the interactive namespace from numpy and matplotlib\n"
     ]
    }
   ],
   "source": [
    "# My personal version of Cholla plot_sod.py plotting script\n",
    "import h5py\n",
    "%pylab inline\n",
    "pylab.rcParams.update({'font.size': 18})\n",
    "pylab.rcParams.update({'font.family': 'serif'})\n",
    "pylab.rcParams.update({'mathtext.default':'regular'})\n",
    "pylab.rcParams.update({'mathtext.fontset':'stixsans'})\n",
    "pylab.rcParams.update({'axes.linewidth': 1.5})\n",
    "pylab.rcParams.update({'xtick.direction':'in'})\n",
    "pylab.rcParams.update({'xtick.major.size': 5})\n",
    "pylab.rcParams.update({'xtick.major.width': 1.25 })\n",
    "pylab.rcParams.update({'xtick.minor.size': 2.5})\n",
    "pylab.rcParams.update({'xtick.minor.width': 1.25 })\n",
    "pylab.rcParams.update({'ytick.direction':'in'})\n",
    "pylab.rcParams.update({'ytick.major.size': 5})\n",
    "pylab.rcParams.update({'ytick.major.width': 1.25 })\n",
    "pylab.rcParams.update({'ytick.minor.size': 2.5})\n",
    "pylab.rcParams.update({'ytick.minor.width': 1.25 })"
   ]
  },
  {
   "cell_type": "code",
   "execution_count": 19,
   "id": "possible-tucson",
   "metadata": {},
   "outputs": [
    {
     "name": "stdout",
     "output_type": "stream",
     "text": [
      "Keywords: <KeysViewHDF5 ['bounds', 'density_unit', 'dims', 'domain', 'dt', 'dx', 'energy_unit', 'gamma', 'length_unit', 'mass_unit', 'n_fields', 'n_step', 't', 'time_unit', 'velocity_unit']>\n"
     ]
    }
   ],
   "source": [
    "dnamein = \"./sod_1D/\"\n",
    "dnameout = \"./sod_1D/\"\n",
    "i = 1\n",
    "f = h5py.File(dnamein + str(i) + \".h5\", \"r\")\n",
    "head = f.attrs # Allows dictionary-style access to an HDF5 object's attributes.\n",
    "print(f\"Keywords: {head.keys()}\")"
   ]
  },
  {
   "cell_type": "code",
   "execution_count": null,
   "id": "published-malpractice",
   "metadata": {},
   "outputs": [],
   "source": []
  }
 ],
 "metadata": {
  "kernelspec": {
   "display_name": "Python 3",
   "language": "python",
   "name": "python3"
  },
  "language_info": {
   "codemirror_mode": {
    "name": "ipython",
    "version": 3
   },
   "file_extension": ".py",
   "mimetype": "text/x-python",
   "name": "python",
   "nbconvert_exporter": "python",
   "pygments_lexer": "ipython3",
   "version": "3.6.12"
  }
 },
 "nbformat": 4,
 "nbformat_minor": 5
}
