{
 "cells": [
  {
   "cell_type": "code",
   "execution_count": 2,
   "id": "filled-electronics",
   "metadata": {},
   "outputs": [
    {
     "name": "stdout",
     "output_type": "stream",
     "text": [
      "Populating the interactive namespace from numpy and matplotlib\n"
     ]
    }
   ],
   "source": [
    "# Cholla 1D square wave plotting script\n",
    "import h5py\n",
    "%pylab inline\n",
    "pylab.rcParams.update({'font.size': 18})\n",
    "pylab.rcParams.update({'font.family': 'serif'})\n",
    "pylab.rcParams.update({'mathtext.default':'regular'})\n",
    "pylab.rcParams.update({'mathtext.fontset':'stixsans'})\n",
    "pylab.rcParams.update({'axes.linewidth': 1.5})\n",
    "pylab.rcParams.update({'xtick.direction':'in'})\n",
    "pylab.rcParams.update({'xtick.major.size': 5})\n",
    "pylab.rcParams.update({'xtick.major.width': 1.25 })\n",
    "pylab.rcParams.update({'xtick.minor.size': 2.5})\n",
    "pylab.rcParams.update({'xtick.minor.width': 1.25 })\n",
    "pylab.rcParams.update({'ytick.direction':'in'})\n",
    "pylab.rcParams.update({'ytick.major.size': 5})\n",
    "pylab.rcParams.update({'ytick.major.width': 1.25 })\n",
    "pylab.rcParams.update({'ytick.minor.size': 2.5})\n",
    "pylab.rcParams.update({'ytick.minor.width': 1.25 })"
   ]
  },
  {
   "cell_type": "code",
   "execution_count": 15,
   "id": "confidential-biotechnology",
   "metadata": {},
   "outputs": [
    {
     "name": "stdout",
     "output_type": "stream",
     "text": [
      "[['bounds' 'density_unit' 'dims' ... 't' 'time_unit' 'velocity_unit']\n",
      " ['bounds' 'density_unit' 'dims' ... 't' 'time_unit' 'velocity_unit']\n",
      " ['bounds' 'density_unit' 'dims' ... 't' 'time_unit' 'velocity_unit']\n",
      " ...\n",
      " ['bounds' 'density_unit' 'dims' ... 't' 'time_unit' 'velocity_unit']\n",
      " ['bounds' 'density_unit' 'dims' ... 't' 'time_unit' 'velocity_unit']\n",
      " ['bounds' 'density_unit' 'dims' ... 't' 'time_unit' 'velocity_unit']]\n"
     ]
    }
   ],
   "source": [
    "dnamein = \"./square_wave_1D/\"\n",
    "dnameout = \"./square_wave_1D/\"\n",
    "i_out = np.arange(0, 101)\n",
    "head = []\n",
    "for i in i_out:\n",
    "    f = h5py.File(dnamein + str(i) + \".h5\", \"r\")\n",
    "    head.append(f.attrs) # Allows dictionary-style access to an HDF5 object's attributes.\n",
    "\n",
    "head = np.array(head)\n",
    "print(head)"
   ]
  },
  {
   "cell_type": "code",
   "execution_count": 14,
   "id": "minute-fruit",
   "metadata": {},
   "outputs": [
    {
     "ename": "IndexError",
     "evalue": "only integers, slices (`:`), ellipsis (`...`), numpy.newaxis (`None`) and integer or boolean arrays are valid indices",
     "output_type": "error",
     "traceback": [
      "\u001b[0;31m---------------------------------------------------------------------------\u001b[0m",
      "\u001b[0;31mIndexError\u001b[0m                                Traceback (most recent call last)",
      "\u001b[0;32m<ipython-input-14-3a693753990d>\u001b[0m in \u001b[0;36m<module>\u001b[0;34m\u001b[0m\n\u001b[0;32m----> 1\u001b[0;31m \u001b[0mnx\u001b[0m \u001b[0;34m=\u001b[0m \u001b[0mhead\u001b[0m\u001b[0;34m[\u001b[0m\u001b[0;36m0\u001b[0m\u001b[0;34m]\u001b[0m\u001b[0;34m[\u001b[0m\u001b[0;34m\"dims\"\u001b[0m\u001b[0;34m]\u001b[0m\u001b[0;34m[\u001b[0m\u001b[0;36m0\u001b[0m\u001b[0;34m]\u001b[0m\u001b[0;34m\u001b[0m\u001b[0;34m\u001b[0m\u001b[0m\n\u001b[0m\u001b[1;32m      2\u001b[0m \u001b[0mxrange\u001b[0m \u001b[0;34m=\u001b[0m \u001b[0mnp\u001b[0m\u001b[0;34m.\u001b[0m\u001b[0marange\u001b[0m\u001b[0;34m(\u001b[0m\u001b[0;36m0\u001b[0m\u001b[0;34m,\u001b[0m \u001b[0mnx\u001b[0m \u001b[0;34m+\u001b[0m \u001b[0;36m1\u001b[0m\u001b[0;34m)\u001b[0m\u001b[0;34m\u001b[0m\u001b[0;34m\u001b[0m\u001b[0m\n\u001b[1;32m      3\u001b[0m \u001b[0mgamma\u001b[0m \u001b[0;34m=\u001b[0m \u001b[0mhead\u001b[0m\u001b[0;34m[\u001b[0m\u001b[0;34m\"gamma\"\u001b[0m\u001b[0;34m]\u001b[0m\u001b[0;34m[\u001b[0m\u001b[0;36m0\u001b[0m\u001b[0;34m]\u001b[0m\u001b[0;34m\u001b[0m\u001b[0;34m\u001b[0m\u001b[0m\n\u001b[1;32m      4\u001b[0m \u001b[0mprint\u001b[0m\u001b[0;34m(\u001b[0m\u001b[0;34mf\"nx: {nx}, gamma: {gamma}\"\u001b[0m\u001b[0;34m)\u001b[0m\u001b[0;34m\u001b[0m\u001b[0;34m\u001b[0m\u001b[0m\n\u001b[1;32m      5\u001b[0m \u001b[0md\u001b[0m \u001b[0;34m=\u001b[0m \u001b[0mnp\u001b[0m\u001b[0;34m.\u001b[0m\u001b[0marray\u001b[0m\u001b[0;34m(\u001b[0m\u001b[0mf\u001b[0m\u001b[0;34m[\u001b[0m\u001b[0;34m\"density\"\u001b[0m\u001b[0;34m]\u001b[0m\u001b[0;34m)\u001b[0m \u001b[0;31m# mass density\u001b[0m\u001b[0;34m\u001b[0m\u001b[0;34m\u001b[0m\u001b[0m\n",
      "\u001b[0;31mIndexError\u001b[0m: only integers, slices (`:`), ellipsis (`...`), numpy.newaxis (`None`) and integer or boolean arrays are valid indices"
     ]
    }
   ],
   "source": [
    "nx = head[\"dims\"][0]\n",
    "xrange = np.arange(0, nx + 1)\n",
    "gamma = head[\"gamma\"][0]\n",
    "print(f\"nx: {nx}, gamma: {gamma}\")\n",
    "d = np.array(f[\"density\"]) # mass density\n",
    "mx = np.array(f[\"momentum_x\"]) # x-momentum\n",
    "my = np.array(f[\"momentum_y\"]) # y-momentum\n",
    "mz = np.array(f[\"momentum_z\"]) # z-momentum\n",
    "E = np.array([f[\"Energy\"]]) # total energy density\n",
    "\n",
    "vx = mx / d\n",
    "vy = my / d\n",
    "vz = mz / d\n",
    "\n",
    "if DE:\n",
    "    e  = np.array(f['GasEnergy'])\n",
    "    p  = e*(gamma-1.0) # pressure\n",
    "    ge = e/d # internal energy\n",
    "else: \n",
    "    p  = (E - 0.5*d*(vx*vx + vy*vy + vz*vz)) * (gamma - 1.0) # pressure\n",
    "    ge  = p/d/(gamma - 1.0) # internal energy"
   ]
  },
  {
   "cell_type": "code",
   "execution_count": null,
   "id": "operating-corps",
   "metadata": {},
   "outputs": [],
   "source": []
  }
 ],
 "metadata": {
  "kernelspec": {
   "display_name": "Python 3",
   "language": "python",
   "name": "python3"
  },
  "language_info": {
   "codemirror_mode": {
    "name": "ipython",
    "version": 3
   },
   "file_extension": ".py",
   "mimetype": "text/x-python",
   "name": "python",
   "nbconvert_exporter": "python",
   "pygments_lexer": "ipython3",
   "version": "3.6.12"
  }
 },
 "nbformat": 4,
 "nbformat_minor": 5
}
