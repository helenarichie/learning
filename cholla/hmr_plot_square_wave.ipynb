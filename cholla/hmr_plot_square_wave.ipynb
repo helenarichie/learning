{
 "cells": [
  {
   "cell_type": "code",
   "execution_count": 2,
   "id": "filled-electronics",
   "metadata": {},
   "outputs": [
    {
     "name": "stdout",
     "output_type": "stream",
     "text": [
      "Populating the interactive namespace from numpy and matplotlib\n"
     ]
    }
   ],
   "source": [
    "# Cholla 1D square wave plotting script\n",
    "import h5py\n",
    "%pylab inline\n",
    "pylab.rcParams.update({'font.size': 18})\n",
    "pylab.rcParams.update({'font.family': 'serif'})\n",
    "pylab.rcParams.update({'mathtext.default':'regular'})\n",
    "pylab.rcParams.update({'mathtext.fontset':'stixsans'})\n",
    "pylab.rcParams.update({'axes.linewidth': 1.5})\n",
    "pylab.rcParams.update({'xtick.direction':'in'})\n",
    "pylab.rcParams.update({'xtick.major.size': 5})\n",
    "pylab.rcParams.update({'xtick.major.width': 1.25 })\n",
    "pylab.rcParams.update({'xtick.minor.size': 2.5})\n",
    "pylab.rcParams.update({'xtick.minor.width': 1.25 })\n",
    "pylab.rcParams.update({'ytick.direction':'in'})\n",
    "pylab.rcParams.update({'ytick.major.size': 5})\n",
    "pylab.rcParams.update({'ytick.major.width': 1.25 })\n",
    "pylab.rcParams.update({'ytick.minor.size': 2.5})\n",
    "pylab.rcParams.update({'ytick.minor.width': 1.25 })"
   ]
  },
  {
   "cell_type": "code",
   "execution_count": 12,
   "id": "confidential-biotechnology",
   "metadata": {},
   "outputs": [],
   "source": [
    "dnamein = \"./square_wave_1D/\"\n",
    "dnameout = \"./square_wave_1D/\"\n",
    "i_out = np.arange(0, 101)\n",
    "head = []\n",
    "for i in i_out:\n",
    "    f = h5py.File(dnamein + str(i) + \".h5\", \"r\")\n",
    "    head.append(f.attrs) # Allows dictionary-style access to an HDF5 object's attributes.\n",
    "\n",
    "head = np.array(head)\n",
    "\n"
   ]
  },
  {
   "cell_type": "code",
   "execution_count": null,
   "id": "revised-valve",
   "metadata": {},
   "outputs": [],
   "source": []
  }
 ],
 "metadata": {
  "kernelspec": {
   "display_name": "Python 3",
   "language": "python",
   "name": "python3"
  },
  "language_info": {
   "codemirror_mode": {
    "name": "ipython",
    "version": 3
   },
   "file_extension": ".py",
   "mimetype": "text/x-python",
   "name": "python",
   "nbconvert_exporter": "python",
   "pygments_lexer": "ipython3",
   "version": "3.6.12"
  }
 },
 "nbformat": 4,
 "nbformat_minor": 5
}
