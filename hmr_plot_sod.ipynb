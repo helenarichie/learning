{
 "cells": [
  {
   "cell_type": "code",
   "execution_count": null,
   "id": "fatty-fight",
   "metadata": {},
   "outputs": [],
   "source": [
    "# My personal version of Cholla plot_sod.py plotting script\n"
   ]
  }
 ],
 "metadata": {
  "kernelspec": {
   "display_name": "Python 3",
   "language": "python",
   "name": "python3"
  },
  "language_info": {
   "codemirror_mode": {
    "name": "ipython",
    "version": 3
   },
   "file_extension": ".py",
   "mimetype": "text/x-python",
   "name": "python",
   "nbconvert_exporter": "python",
   "pygments_lexer": "ipython3",
   "version": "3.6.12"
  }
 },
 "nbformat": 4,
 "nbformat_minor": 5
}
